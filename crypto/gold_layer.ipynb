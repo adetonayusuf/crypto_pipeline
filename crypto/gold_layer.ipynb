{
 "cells": [
  {
   "cell_type": "markdown",
   "metadata": {
    "application/vnd.databricks.v1+cell": {
     "cellMetadata": {
      "byteLimit": 2048000,
      "rowLimit": 10000
     },
     "inputWidgets": {},
     "nuid": "6514e71f-1944-4b6a-a08d-98665e27cc60",
     "showTitle": false,
     "tableResultSettingsMap": {},
     "title": ""
    }
   },
   "source": [
    "## CREATING CATALOG, SCHEMA AND TABLES"
   ]
  },
  {
   "cell_type": "code",
   "execution_count": 0,
   "metadata": {
    "application/vnd.databricks.v1+cell": {
     "cellMetadata": {
      "byteLimit": 2048000,
      "implicitDf": true,
      "rowLimit": 10000
     },
     "inputWidgets": {},
     "nuid": "75e7f638-2de9-4f14-9658-dae480a68414",
     "showTitle": false,
     "tableResultSettingsMap": {},
     "title": ""
    }
   },
   "outputs": [],
   "source": [
    "%sql\n",
    "CREATE CATALOG IF NOT EXISTS ctl_crypto;"
   ]
  },
  {
   "cell_type": "code",
   "execution_count": 0,
   "metadata": {
    "application/vnd.databricks.v1+cell": {
     "cellMetadata": {
      "byteLimit": 2048000,
      "implicitDf": true,
      "rowLimit": 10000
     },
     "inputWidgets": {},
     "nuid": "e3d99e09-7c9e-4536-bd89-006e72af689d",
     "showTitle": false,
     "tableResultSettingsMap": {},
     "title": ""
    }
   },
   "outputs": [],
   "source": [
    "%sql\n",
    "CREATE SCHEMA IF NOT EXISTS ctl_crypto.staging_schema;"
   ]
  },
  {
   "cell_type": "code",
   "execution_count": 0,
   "metadata": {
    "application/vnd.databricks.v1+cell": {
     "cellMetadata": {
      "byteLimit": 2048000,
      "rowLimit": 10000
     },
     "inputWidgets": {},
     "nuid": "18cbc730-f86f-474d-8371-648ccbd014f0",
     "showTitle": false,
     "tableResultSettingsMap": {},
     "title": ""
    }
   },
   "outputs": [],
   "source": [
    "\n",
    "silver_path = \"abfss://cryptocontainer1@intellobankcryptodata.dfs.core.windows.net/silver/silver_crypto\"\n",
    "gold_path = \"abfss://cryptocontainer1@intellobankcryptodata.dfs.core.windows.net/gold\""
   ]
  },
  {
   "cell_type": "code",
   "execution_count": 0,
   "metadata": {
    "application/vnd.databricks.v1+cell": {
     "cellMetadata": {
      "byteLimit": 2048000,
      "implicitDf": true,
      "rowLimit": 10000
     },
     "inputWidgets": {},
     "nuid": "14b4fce6-fdeb-469c-952d-b413d256d6b7",
     "showTitle": false,
     "tableResultSettingsMap": {},
     "title": ""
    }
   },
   "outputs": [],
   "source": [
    "%sql\n",
    "SHOW EXTERNAL LOCATIONS"
   ]
  },
  {
   "cell_type": "code",
   "execution_count": 0,
   "metadata": {
    "application/vnd.databricks.v1+cell": {
     "cellMetadata": {
      "byteLimit": 2048000,
      "implicitDf": true,
      "rowLimit": 10000
     },
     "inputWidgets": {},
     "nuid": "85348b9d-6301-4e85-9c0d-b7bb8f6c6b19",
     "showTitle": false,
     "tableResultSettingsMap": {},
     "title": ""
    }
   },
   "outputs": [],
   "source": [
    "%sql\n",
    "CREATE TABLE IF NOT EXISTS ctl_crypto.staging_schema.raw_silver\n",
    "USING DELTA\n",
    "LOCATION \"abfss://cryptocontainer1@intellobankcryptodata.dfs.core.windows.net/silver/silver_crypto\";"
   ]
  },
  {
   "cell_type": "code",
   "execution_count": 0,
   "metadata": {
    "application/vnd.databricks.v1+cell": {
     "cellMetadata": {
      "byteLimit": 2048000,
      "implicitDf": true,
      "rowLimit": 10000
     },
     "inputWidgets": {},
     "nuid": "41d41cb9-e4b1-4ae8-9230-b9d001ecdaf1",
     "showTitle": false,
     "tableResultSettingsMap": {},
     "title": ""
    }
   },
   "outputs": [],
   "source": [
    "%sql\n",
    "SELECT * FROM ctl_crypto.staging_schema.raw_silver\n",
    "LIMIT 5;"
   ]
  },
  {
   "cell_type": "markdown",
   "metadata": {
    "application/vnd.databricks.v1+cell": {
     "cellMetadata": {
      "byteLimit": 2048000,
      "rowLimit": 10000
     },
     "inputWidgets": {},
     "nuid": "b8cc6923-a617-4c41-8109-ace7e55f9053",
     "showTitle": false,
     "tableResultSettingsMap": {},
     "title": ""
    }
   },
   "source": [
    "### NORMALISING THE GENERAL TABLE\n",
    "By extracting the fact and dimension tables"
   ]
  },
  {
   "cell_type": "code",
   "execution_count": 0,
   "metadata": {
    "application/vnd.databricks.v1+cell": {
     "cellMetadata": {
      "byteLimit": 2048000,
      "implicitDf": true,
      "rowLimit": 10000
     },
     "inputWidgets": {},
     "nuid": "d3ea08e5-f84f-48e7-a181-162ef0be2f0d",
     "showTitle": false,
     "tableResultSettingsMap": {},
     "title": ""
    }
   },
   "outputs": [],
   "source": [
    "%sql\n",
    "CREATE SCHEMA IF NOT EXISTS ctl_crypto.gold_schema;"
   ]
  },
  {
   "cell_type": "code",
   "execution_count": 0,
   "metadata": {
    "application/vnd.databricks.v1+cell": {
     "cellMetadata": {
      "byteLimit": 2048000,
      "implicitDf": true,
      "rowLimit": 10000
     },
     "inputWidgets": {},
     "nuid": "90b94918-1ac8-417e-a4c6-71cc4b8a8746",
     "showTitle": false,
     "tableResultSettingsMap": {},
     "title": ""
    }
   },
   "outputs": [],
   "source": [
    "%sql\n",
    "CREATE TABLE IF NOT EXISTS ctl_crypto.gold_schema.dim_roi(\n",
    "  dim_roi_id BIGINT GENERATED ALWAYS AS IDENTITY PRIMARY KEY,\n",
    "  id STRING NOT NULL,\n",
    "  roi_time DOUBLE,\n",
    "  roi_currency STRING,\n",
    "  roi_percentage DOUBLE,\n",
    "  last_updated_ts TIMESTAMP\n",
    ")\n",
    "USING DELTA\n",
    "LOCATION \"abfss://cryptocontainer1@intellobankcryptodata.dfs.core.windows.net/gold/dim_roi\";"
   ]
  },
  {
   "cell_type": "code",
   "execution_count": 0,
   "metadata": {
    "application/vnd.databricks.v1+cell": {
     "cellMetadata": {
      "byteLimit": 2048000,
      "implicitDf": true,
      "rowLimit": 10000
     },
     "inputWidgets": {},
     "nuid": "b847b0d0-48d3-42fe-98b9-e5e19f5fbe47",
     "showTitle": false,
     "tableResultSettingsMap": {},
     "title": ""
    }
   },
   "outputs": [],
   "source": [
    "%sql\n",
    "CREATE TABLE IF NOT EXISTS ctl_crypto.gold_schema.dim_crypto\n",
    "(\n",
    "  dim_crypto_id BIGINT GENERATED ALWAYS AS IDENTITY PRIMARY KEY,\n",
    "  id STRING NOT NULL,\n",
    "  name STRING,\n",
    "  symbol STRING,\n",
    "  ath DOUBLE,\n",
    "  ath_change_percentage DOUBLE,\n",
    "  market_cap_billions DOUBLE,\n",
    "  volume_to_market_cap_ratio DOUBLE,\n",
    "  last_updated_ts TIMESTAMP\n",
    ")\n",
    "USING DELTA\n",
    "LOCATION \"abfss://cryptocontainer1@intellobankcryptodata.dfs.core.windows.net/gold/dim_crypto\";"
   ]
  },
  {
   "cell_type": "code",
   "execution_count": 0,
   "metadata": {
    "application/vnd.databricks.v1+cell": {
     "cellMetadata": {
      "byteLimit": 2048000,
      "implicitDf": true,
      "rowLimit": 10000
     },
     "inputWidgets": {},
     "nuid": "1f942d2d-f1f9-46e8-87f7-3649e48488ad",
     "showTitle": false,
     "tableResultSettingsMap": {},
     "title": ""
    }
   },
   "outputs": [],
   "source": [
    "%sql\n",
    "CREATE TABLE IF NOT EXISTS ctl_crypto.gold_schema.crypto_fact\n",
    "(\n",
    "  id STRING NOT NULL,\n",
    "  market_cap_rank BIGINT,\n",
    "  max_supply DOUBLE,\n",
    "  total_supply DOUBLE,\n",
    "  circulating_supply DOUBLE,\n",
    "  total_volume DOUBLE,\n",
    "  market_cap DOUBLE,\n",
    "  market_cap_change_24h DOUBLE,  -- Added missing data type\n",
    "  market_cap_change_percentage_24h DOUBLE,\n",
    "  price_change_24h DOUBLE,\n",
    "  price_change_percentage_24h DOUBLE,\n",
    "  fully_diluted_valuation DOUBLE,\n",
    "  market_cap_billions DOUBLE,\n",
    "  total_volume_double DOUBLE,\n",
    "  high_24h DOUBLE,\n",
    "  low_24h DOUBLE,\n",
    "  current_price DOUBLE,\n",
    "  date_partition DATE,  -- Added missing comma\n",
    "  last_updated_ts TIMESTAMP,\n",
    "  FOREIGN KEY (dim_roi_id) REFERENCES ctl_crypto.gold_schema.dim_roi(dim_roi_id),\n",
    "  FOREIGN KEY (dim_crypto_id) REFERENCES ctl_crypto.gold_schema.dim_crypto(dim_crypto_id)\n",
    ")\n",
    "USING DELTA\n",
    "LOCATION \"abfss://cryptocontainer1@intellobankcryptodata.dfs.core.windows.net/gold/crypto_fact\";\n"
   ]
  },
  {
   "cell_type": "code",
   "execution_count": 0,
   "metadata": {
    "application/vnd.databricks.v1+cell": {
     "cellMetadata": {
      "byteLimit": 2048000,
      "implicitDf": true,
      "rowLimit": 10000
     },
     "inputWidgets": {},
     "nuid": "e294d1f6-d8dd-4b6f-ad9c-b812c3370699",
     "showTitle": false,
     "tableResultSettingsMap": {},
     "title": ""
    }
   },
   "outputs": [],
   "source": [
    "%sql\n",
    "CREATE TABLE IF NOT EXISTS ctl_crypto.gold_schema.crypto_fact\n",
    "USING DELTA\n",
    "LOCATION \"abfss://cryptocontainer1@intellobankcryptodata.dfs.core.windows.net/gold/crypto_fact\";\n"
   ]
  },
  {
   "cell_type": "code",
   "execution_count": 0,
   "metadata": {
    "application/vnd.databricks.v1+cell": {
     "cellMetadata": {
      "byteLimit": 2048000,
      "rowLimit": 10000
     },
     "inputWidgets": {},
     "nuid": "be074f64-b9aa-4809-8815-2cf4c137f578",
     "showTitle": false,
     "tableResultSettingsMap": {},
     "title": ""
    }
   },
   "outputs": [],
   "source": []
  },
  {
   "cell_type": "code",
   "execution_count": 0,
   "metadata": {
    "application/vnd.databricks.v1+cell": {
     "cellMetadata": {
      "byteLimit": 2048000,
      "implicitDf": true,
      "rowLimit": 10000
     },
     "inputWidgets": {},
     "nuid": "b1a8c4bd-77db-4121-ad60-8cd3dc4fb422",
     "showTitle": false,
     "tableResultSettingsMap": {},
     "title": ""
    }
   },
   "outputs": [],
   "source": [
    "%sql\n",
    "MERGE INTO ctl_crypto.gold_schema.dim_roi AS target\n",
    "USING (\n",
    "  SELECT\n",
    "    id,\n",
    "    roi_time,\n",
    "    roi_percentage,\n",
    "    roi_currency,\n",
    "    last_updated_ts,\n",
    "    ROW_NUMBER() OVER (PARTITION BY id ORDER BY last_updated_ts DESC) AS rn\n",
    "  FROM (\n",
    "    SELECT *, \n",
    "    ROW_NUMBER() OVER (PARTITION BY id ORDER BY last_updated_ts DESC) AS rn \n",
    "    FROM ctl_crypto.staging_schema.raw_silver\n",
    "  ) WHERE rn = 1\n",
    ") AS updated_rn\n",
    "\n",
    "ON target.id = updated_rn.id\n",
    "\n",
    "WHEN MATCHED AND updated_rn.rn = 1 THEN \n",
    "  UPDATE SET\n",
    "    target.roi_time = updated_rn.roi_time,\n",
    "    target.roi_percentage = updated_rn.roi_percentage,\n",
    "    target.roi_currency = updated_rn.roi_currency,\n",
    "    target.last_updated_ts = updated_rn.last_updated_ts\n",
    "\n",
    "WHEN NOT MATCHED AND updated_rn.rn = 1 THEN \n",
    "  INSERT (\n",
    "    id, \n",
    "    roi_time,\n",
    "    roi_percentage,\n",
    "    roi_currency,        -- ✅ Correct order\n",
    "    last_updated_ts\n",
    "  ) \n",
    "  VALUES (\n",
    "    updated_rn.id,\n",
    "    updated_rn.roi_time,\n",
    "    updated_rn.roi_percentage,  -- ✅ DOUBLE to roi_percentage\n",
    "    updated_rn.roi_currency,    -- ✅ STRING to roi_currency\n",
    "    updated_rn.last_updated_ts\n",
    "  );"
   ]
  },
  {
   "cell_type": "code",
   "execution_count": 0,
   "metadata": {
    "application/vnd.databricks.v1+cell": {
     "cellMetadata": {
      "byteLimit": 2048000,
      "implicitDf": true,
      "rowLimit": 10000
     },
     "inputWidgets": {},
     "nuid": "15cbcb7e-e84a-45b6-935f-4c8bf807533a",
     "showTitle": false,
     "tableResultSettingsMap": {},
     "title": ""
    }
   },
   "outputs": [],
   "source": [
    "%sql\n",
    "MERGE INTO ctl_crypto.gold_schema.dim_crypto AS target\n",
    "USING (\n",
    "  SELECT\n",
    "    id,\n",
    "    name,\n",
    "    symbol,\n",
    "    ath,\n",
    "    ath_change_percentage,\n",
    "    market_cap_billions,\n",
    "    volume_to_market_cap_ratio,\n",
    "    last_updated_ts,\n",
    "    ROW_NUMBER() OVER (PARTITION BY id ORDER BY last_updated_ts DESC) AS rn\n",
    "  FROM (SELECT *, ROW_NUMBER() OVER (PARTITION BY id ORDER BY last_updated_ts DESC) AS rn FROM ctl_crypto.staging_schema.raw_silver) WHERE rn = 1\n",
    ") AS updated_rn\n",
    "\n",
    "ON target.id = updated_rn.id\n",
    "\n",
    "WHEN MATCHED AND updated_rn.rn = 1 THEN \n",
    "  UPDATE SET\n",
    "    target.name = updated_rn.name,\n",
    "    target.symbol = updated_rn.symbol,\n",
    "    target.ath = updated_rn.ath,\n",
    "    target.ath_change_percentage = updated_rn.ath_change_percentage,\n",
    "    target.market_cap_billions = updated_rn.market_cap_billions,\n",
    "    target.volume_to_market_cap_ratio = updated_rn.volume_to_market_cap_ratio,\n",
    "    target.last_updated_ts = updated_rn.last_updated_ts\n",
    "    WHEN NOT MATCHED AND updated_rn.rn = 1 THEN \n",
    "  INSERT (\n",
    "    id, \n",
    "    name,\n",
    "    symbol,\n",
    "    ath,\n",
    "    ath_change_percentage,\n",
    "    market_cap_billions,\n",
    "    volume_to_market_cap_ratio,\n",
    "    last_updated_ts\n",
    "  ) \n",
    "  VALUES (\n",
    "    updated_rn.id,\n",
    "    updated_rn.name,\n",
    "    updated_rn.symbol,\n",
    "    updated_rn.ath,\n",
    "    updated_rn.ath_change_percentage,\n",
    "    updated_rn.market_cap_billions,\n",
    "    updated_rn.volume_to_market_cap_ratio,\n",
    "    updated_rn.last_updated_ts\n",
    "  );"
   ]
  },
  {
   "cell_type": "code",
   "execution_count": 0,
   "metadata": {
    "application/vnd.databricks.v1+cell": {
     "cellMetadata": {
      "byteLimit": 2048000,
      "implicitDf": true,
      "rowLimit": 10000
     },
     "inputWidgets": {},
     "nuid": "b24c62df-ca3f-44f5-9220-63f6e7667ba8",
     "showTitle": false,
     "tableResultSettingsMap": {},
     "title": ""
    }
   },
   "outputs": [],
   "source": [
    "%sql\n",
    "MERGE INTO ctl_crypto.gold_schema.crypto_fact AS target\n",
    "USING (\n",
    "  SELECT \n",
    "    id,\n",
    "    market_cap_rank,\n",
    "    max_supply,\n",
    "    total_supply,\n",
    "    circulating_supply,\n",
    "    total_volume,\n",
    "    market_cap,\n",
    "    market_cap_change_24h,\n",
    "    market_cap_change_percentage_24h,\n",
    "    price_change_24h,\n",
    "    price_change_percentage_24h,\n",
    "    fully_diluted_valuation,\n",
    "    market_cap_billions,\n",
    "    total_volume_double,\n",
    "    high_24h,\n",
    "    low_24h,\n",
    "    current_price,\n",
    "    date_partition,  -- ✅ Alias to match table\n",
    "    last_updated_ts,\n",
    "    ROW_NUMBER() OVER (PARTITION BY id ORDER BY last_updated_ts DESC) AS rn\n",
    "  FROM (SELECT *, ROW_NUMBER() OVER (PARTITION BY id ORDER BY last_updated_ts DESC) AS rn FROM ctl_crypto.staging_schema.raw_silver) WHERE rn = 1\n",
    ") AS updated_rn\n",
    "\n",
    "ON target.id = updated_rn.id\n",
    "\n",
    "WHEN MATCHED AND updated_rn.rn = 1 THEN \n",
    "  UPDATE SET\n",
    "    target.market_cap_rank = updated_rn.market_cap_rank,\n",
    "    target.max_supply = updated_rn.max_supply,\n",
    "    target.total_supply = updated_rn.total_supply,\n",
    "    target.circulating_supply = updated_rn.circulating_supply,\n",
    "    target.total_volume = updated_rn.total_volume,\n",
    "    target.market_cap = updated_rn.market_cap,\n",
    "    target.market_cap_change_24h = updated_rn.market_cap_change_24h,\n",
    "    target.market_cap_change_percentage_24h = updated_rn.market_cap_change_percentage_24h,\n",
    "    target.price_change_24h = updated_rn.price_change_24h,\n",
    "    target.price_change_percentage_24h = updated_rn.price_change_percentage_24h,\n",
    "    target.fully_diluted_valuation = updated_rn.fully_diluted_valuation,\n",
    "    target.market_cap_billions = updated_rn.market_cap_billions,\n",
    "    target.total_volume_double = updated_rn.total_volume_double,\n",
    "    target.high_24h = updated_rn.high_24h,\n",
    "    target.low_24h = updated_rn.low_24h,\n",
    "    target.current_price = updated_rn.current_price,\n",
    "    target.date_partition = updated_rn.date_partition,  -- ✅ Fixed spelling\n",
    "    target.last_updated_ts = updated_rn.last_updated_ts\n",
    "\n",
    "WHEN NOT MATCHED AND updated_rn.rn = 1 THEN \n",
    "  INSERT (\n",
    "    id,\n",
    "    market_cap_rank,\n",
    "    max_supply,\n",
    "    total_supply,\n",
    "    circulating_supply,\n",
    "    total_volume,\n",
    "    market_cap,\n",
    "    market_cap_change_24h,\n",
    "    market_cap_change_percentage_24h,\n",
    "    price_change_24h,\n",
    "    price_change_percentage_24h,\n",
    "    fully_diluted_valuation,\n",
    "    market_cap_billions,\n",
    "    total_volume_double,\n",
    "    high_24h,\n",
    "    low_24h,\n",
    "    current_price,\n",
    "    date_partition,  -- ✅ Fixed spelling\n",
    "    last_updated_ts\n",
    "  ) \n",
    "  VALUES (\n",
    "    updated_rn.id,\n",
    "    updated_rn.market_cap_rank,\n",
    "    updated_rn.max_supply,\n",
    "    updated_rn.total_supply,\n",
    "    updated_rn.circulating_supply,\n",
    "    updated_rn.total_volume,\n",
    "    updated_rn.market_cap,\n",
    "    updated_rn.market_cap_change_24h,\n",
    "    updated_rn.market_cap_change_percentage_24h,\n",
    "    updated_rn.price_change_24h,\n",
    "    updated_rn.price_change_percentage_24h,\n",
    "    updated_rn.fully_diluted_valuation,\n",
    "    updated_rn.market_cap_billions,\n",
    "    updated_rn.total_volume_double,\n",
    "    updated_rn.high_24h,\n",
    "    updated_rn.low_24h,\n",
    "    updated_rn.current_price,\n",
    "    updated_rn.date_partition,  -- ✅ Fixed spelling\n",
    "    updated_rn.last_updated_ts\n",
    "  );"
   ]
  },
  {
   "cell_type": "code",
   "execution_count": 0,
   "metadata": {
    "application/vnd.databricks.v1+cell": {
     "cellMetadata": {
      "byteLimit": 2048000,
      "rowLimit": 10000
     },
     "inputWidgets": {},
     "nuid": "9e1842db-0712-4b20-b28d-46561a49c3b8",
     "showTitle": false,
     "tableResultSettingsMap": {},
     "title": ""
    }
   },
   "outputs": [],
   "source": [
    "Top_10 = spark.sql('''\n",
    "                   SELECT * FROM ctl_crypto.gold_schema.crypto_fact\n",
    "                    LIMIT 10\n",
    "                   ''')"
   ]
  },
  {
   "cell_type": "code",
   "execution_count": 0,
   "metadata": {
    "application/vnd.databricks.v1+cell": {
     "cellMetadata": {
      "byteLimit": 2048000,
      "rowLimit": 10000
     },
     "inputWidgets": {},
     "nuid": "5ff4656f-03fe-4808-9b9f-c3b438729903",
     "showTitle": false,
     "tableResultSettingsMap": {},
     "title": ""
    }
   },
   "outputs": [],
   "source": [
    "Top_10.display()"
   ]
  },
  {
   "cell_type": "code",
   "execution_count": 0,
   "metadata": {
    "application/vnd.databricks.v1+cell": {
     "cellMetadata": {
      "byteLimit": 2048000,
      "rowLimit": 10000
     },
     "inputWidgets": {},
     "nuid": "bdb0f463-b6f3-469a-bc80-c5c37e0421fc",
     "showTitle": false,
     "tableResultSettingsMap": {},
     "title": ""
    }
   },
   "outputs": [],
   "source": [
    "transformed_data = spark.sql(\"\"\"\n",
    "SELECT\n",
    "    dc.dim_crypto_id,\n",
    "    cf.id,\n",
    "    name,\n",
    "    symbol,\n",
    "    ath,\n",
    "    ath_change_percentage,\n",
    "    cf.market_cap_billions,\n",
    "    volume_to_market_cap_ratio,\n",
    "    (price_change_24h / cf.market_cap_billions) AS normalized_price_change_24h\n",
    "FROM\n",
    "    ctl_crypto.gold_schema.crypto_fact cf\n",
    "JOIN\n",
    "    ctl_crypto.gold_schema.dim_crypto dc\n",
    "ON cf.id = dc.id\n",
    "\"\"\")\n"
   ]
  },
  {
   "cell_type": "code",
   "execution_count": 0,
   "metadata": {
    "application/vnd.databricks.v1+cell": {
     "cellMetadata": {
      "byteLimit": 2048000,
      "rowLimit": 10000
     },
     "inputWidgets": {},
     "nuid": "6b87d789-f030-4306-9607-867d3740871c",
     "showTitle": false,
     "tableResultSettingsMap": {},
     "title": ""
    }
   },
   "outputs": [],
   "source": [
    "transformed_data.display()"
   ]
  },
  {
   "cell_type": "code",
   "execution_count": 0,
   "metadata": {
    "application/vnd.databricks.v1+cell": {
     "cellMetadata": {
      "byteLimit": 2048000,
      "implicitDf": true,
      "rowLimit": 10000
     },
     "inputWidgets": {},
     "nuid": "02538c41-97c8-419d-92a0-2428f4452aad",
     "showTitle": false,
     "tableResultSettingsMap": {},
     "title": ""
    }
   },
   "outputs": [],
   "source": [
    "%sql\n",
    "select market_cap_rank, max_supply, total_volume, market_cap\n",
    "FROM ctl_crypto.gold_schema.crypto_fact\n",
    "ORDER BY market_cap DESC\n",
    "LIMIT 10;\n"
   ]
  },
  {
   "cell_type": "code",
   "execution_count": 0,
   "metadata": {
    "application/vnd.databricks.v1+cell": {
     "cellMetadata": {
      "byteLimit": 2048000,
      "rowLimit": 10000
     },
     "inputWidgets": {},
     "nuid": "787cdb8d-a7d3-4a5b-a90e-40fb01b7d180",
     "showTitle": false,
     "tableResultSettingsMap": {},
     "title": ""
    }
   },
   "outputs": [],
   "source": [
    "from pyspark.sql.functions import *\n",
    "\n",
    "binance_df = transformed_data.filter(col(\"id\").like(\"%binance%\"))\n",
    "\n",
    "# Show the result\n",
    "binance_df.display()"
   ]
  }
 ],
 "metadata": {
  "application/vnd.databricks.v1+notebook": {
   "computePreferences": null,
   "dashboards": [],
   "environmentMetadata": {
    "base_environment": "",
    "environment_version": "2"
   },
   "inputWidgetPreferences": null,
   "language": "python",
   "notebookMetadata": {
    "mostRecentlyExecutedCommandWithImplicitDF": {
     "commandId": 7674122672238806,
     "dataframes": [
      "_sqldf"
     ]
    },
    "pythonIndentUnit": 4
   },
   "notebookName": "gold_layer",
   "widgets": {}
  },
  "language_info": {
   "name": "python"
  }
 },
 "nbformat": 4,
 "nbformat_minor": 0
}
