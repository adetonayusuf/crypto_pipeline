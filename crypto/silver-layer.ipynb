{
 "cells": [
  {
   "cell_type": "code",
   "execution_count": 0,
   "metadata": {
    "application/vnd.databricks.v1+cell": {
     "cellMetadata": {
      "byteLimit": 2048000,
      "rowLimit": 10000
     },
     "inputWidgets": {},
     "nuid": "8f2bba27-9f74-4f23-a1c0-6fc26f9d947e",
     "showTitle": false,
     "tableResultSettingsMap": {},
     "title": ""
    }
   },
   "outputs": [],
   "source": [
    "from pyspark.sql.functions import *\n",
    "from  pyspark.sql.types import *"
   ]
  },
  {
   "cell_type": "code",
   "execution_count": 0,
   "metadata": {
    "application/vnd.databricks.v1+cell": {
     "cellMetadata": {
      "byteLimit": 2048000,
      "rowLimit": 10000
     },
     "inputWidgets": {},
     "nuid": "4646441a-3a97-4f9e-9364-82ad189b3b70",
     "showTitle": false,
     "tableResultSettingsMap": {},
     "title": ""
    }
   },
   "outputs": [],
   "source": [
    "bronze_path = \"abfss://cryptocontainer1@intellobankcryptodata.dfs.core.windows.net/bronze\"\n",
    "silver_path = \"abfss://cryptocontainer1@intellobankcryptodata.dfs.core.windows.net/silver/silver_crypto\"\n",
    "schema_path = \"abfss://cryptocontainer1@intellobankcryptodata.dfs.core.windows.net/schema\""
   ]
  },
  {
   "cell_type": "markdown",
   "metadata": {
    "application/vnd.databricks.v1+cell": {
     "cellMetadata": {
      "byteLimit": 2048000,
      "rowLimit": 10000
     },
     "inputWidgets": {},
     "nuid": "bfafdd74-4316-4113-a81e-f05de223d6fc",
     "showTitle": false,
     "tableResultSettingsMap": {},
     "title": ""
    }
   },
   "source": [
    "## Using Autoloader"
   ]
  },
  {
   "cell_type": "code",
   "execution_count": 0,
   "metadata": {
    "application/vnd.databricks.v1+cell": {
     "cellMetadata": {
      "byteLimit": 2048000,
      "rowLimit": 10000
     },
     "inputWidgets": {},
     "nuid": "59ff2694-9f12-441a-a039-3fd4a3eb7b9c",
     "showTitle": false,
     "tableResultSettingsMap": {},
     "title": ""
    }
   },
   "outputs": [],
   "source": [
    "spark.read\\\n",
    "    .format('json')\\\n",
    "    .option(\"multiline\", \"true\")\\\n",
    "    .load(bronze_path)"
   ]
  },
  {
   "cell_type": "code",
   "execution_count": 0,
   "metadata": {
    "application/vnd.databricks.v1+cell": {
     "cellMetadata": {
      "byteLimit": 2048000,
      "rowLimit": 10000
     },
     "inputWidgets": {},
     "nuid": "dbd3710e-f8c8-4230-9b4c-0cb6c2d24a02",
     "showTitle": false,
     "tableResultSettingsMap": {},
     "title": ""
    }
   },
   "outputs": [],
   "source": [
    "df = spark.readStream\\\n",
    "    .format('cloudFiles')\\\n",
    "    .option(\"cloudFiles.format\", \"json\")\\\n",
    "    .option(\"cloudFiles.schemaEvolutionMode\", \"addNewColumns\")\\\n",
    "    .option(\"cloudFiles.schemaLocation\", schema_path)\\\n",
    "    .option('cloudFiles.schemaHints',\n",
    "            \"\"\"\n",
    "            roi STRUCT<times:DOUBLE, currency:STRING, percentage:DOUBLE>,\n",
    "            ath STRING,\n",
    "            ath_change_percentage STRING,\n",
    "            ath_date STRING,\n",
    "            atl STRING,\n",
    "            atl_change_percentage STRING,\n",
    "            atl_date STRING,\n",
    "            circulating_supply STRING,\n",
    "            current_price STRING,\n",
    "            high_24h STRING,\n",
    "            id STRING,\n",
    "            last_updated STRING,\n",
    "            low_24h STRING,\n",
    "            market_cap STRING,\n",
    "            market_cap_change_24h STRING,\n",
    "            market_cap_change_percentage_24h STRING,\n",
    "            market_cap_rank STRING,\n",
    "            max_supply STRING,\n",
    "            name STRING,\n",
    "            price_change_24h STRING,\n",
    "            price_change_percentage_24h STRING,\n",
    "            symbol STRING,\n",
    "            total_supply STRING,\n",
    "            total_volume STRING\n",
    "            \"\"\") \\\n",
    "            .load(bronze_path)\\\n",
    "            .withColumn('ingested_time', current_timestamp())"
   ]
  },
  {
   "cell_type": "code",
   "execution_count": 0,
   "metadata": {
    "application/vnd.databricks.v1+cell": {
     "cellMetadata": {
      "byteLimit": 2048000,
      "rowLimit": 10000
     },
     "inputWidgets": {},
     "nuid": "baf28188-648c-4369-900f-2b8e595e3d5c",
     "showTitle": false,
     "tableResultSettingsMap": {},
     "title": ""
    }
   },
   "outputs": [],
   "source": [
    "df.printSchema()"
   ]
  },
  {
   "cell_type": "markdown",
   "metadata": {
    "application/vnd.databricks.v1+cell": {
     "cellMetadata": {
      "byteLimit": 2048000,
      "rowLimit": 10000
     },
     "inputWidgets": {},
     "nuid": "29364ae6-807f-4915-9eae-c6265be18c7f",
     "showTitle": false,
     "tableResultSettingsMap": {},
     "title": ""
    }
   },
   "source": [
    "## Transforming our Data using Pyspark"
   ]
  },
  {
   "cell_type": "code",
   "execution_count": 0,
   "metadata": {
    "application/vnd.databricks.v1+cell": {
     "cellMetadata": {
      "byteLimit": 2048000,
      "rowLimit": 10000
     },
     "inputWidgets": {},
     "nuid": "61e90c49-46c7-4fbb-b6a1-305909a6e8ab",
     "showTitle": false,
     "tableResultSettingsMap": {},
     "title": ""
    }
   },
   "outputs": [],
   "source": [
    "df_parsed = df\\\n",
    "    .withColumn('roi_time', col('roi.times'))\\\n",
    "    .withColumn('roi_currency', col('roi.currency'))\\\n",
    "    .withColumn('roi_percentage', col('roi.percentage'))\\\n",
    "    .drop('roi')"
   ]
  },
  {
   "cell_type": "code",
   "execution_count": 0,
   "metadata": {
    "application/vnd.databricks.v1+cell": {
     "cellMetadata": {
      "byteLimit": 2048000,
      "rowLimit": 10000
     },
     "inputWidgets": {},
     "nuid": "1a5c99cc-17d2-40e3-86bd-362d935a3a87",
     "showTitle": false,
     "tableResultSettingsMap": {},
     "title": ""
    }
   },
   "outputs": [],
   "source": [
    "df_parsed.printSchema()"
   ]
  },
  {
   "cell_type": "code",
   "execution_count": 0,
   "metadata": {
    "application/vnd.databricks.v1+cell": {
     "cellMetadata": {
      "byteLimit": 2048000,
      "rowLimit": 10000
     },
     "inputWidgets": {},
     "nuid": "d33b5928-77a0-44d3-8477-c28a9161aad4",
     "showTitle": false,
     "tableResultSettingsMap": {},
     "title": ""
    }
   },
   "outputs": [],
   "source": [
    "from pyspark.sql.functions import col, regexp_replace, to_timestamp, current_timestamp, to_date, when\n",
    "\n",
    "df_transformed = df_parsed \\\n",
    "    .withColumn('last_updated_clean', regexp_replace(col('last_updated'), r'(Z|\\+00:00)$', '')) \\\n",
    "    .withColumn('last_updated_ts',\n",
    "        when(col('last_updated_clean').isNotNull(),\n",
    "             to_timestamp(col('last_updated_clean'), \"yyyy-MM-dd'T'HH:mm:ss.SSS\"))\n",
    "        .otherwise(current_timestamp())\n",
    "    ) \\\n",
    "    .withColumn('date_partition', to_date(col('last_updated_ts'))) \\\n",
    "    .drop('last_updated', 'last_updated_clean')\n"
   ]
  },
  {
   "cell_type": "code",
   "execution_count": 0,
   "metadata": {
    "application/vnd.databricks.v1+cell": {
     "cellMetadata": {
      "byteLimit": 2048000,
      "rowLimit": 10000
     },
     "inputWidgets": {},
     "nuid": "5bb9121b-b10a-4acf-9967-f4c74a4b1f40",
     "showTitle": false,
     "tableResultSettingsMap": {},
     "title": ""
    }
   },
   "outputs": [],
   "source": [
    "from pyspark.sql.functions import col, when\n",
    "\n",
    "df_metrics = df_transformed \\\n",
    "    .withColumn('market_cap_double', col('market_cap').cast('double')) \\\n",
    "    .withColumn('total_volume_double', col('total_volume').cast('double')) \\\n",
    "    .withColumn('market_cap_billions',\n",
    "        when(col('market_cap_double').isNotNull(), col('market_cap_double') / 1_000_000_000.0)\n",
    "        .otherwise(0.0)\n",
    "    ) \\\n",
    "    .withColumn('volume_to_market_cap_ratio',\n",
    "        when(\n",
    "            (col('total_volume_double').isNotNull()) & (col('market_cap_double').isNotNull()),\n",
    "            col('total_volume_double') / col('market_cap_double')\n",
    "        ).otherwise(0.0)\n",
    "    )\n",
    "\n",
    "df_metrics.printSchema()\n"
   ]
  },
  {
   "cell_type": "code",
   "execution_count": 0,
   "metadata": {
    "application/vnd.databricks.v1+cell": {
     "cellMetadata": {
      "byteLimit": 2048000,
      "rowLimit": 10000
     },
     "inputWidgets": {},
     "nuid": "de0cc44c-ff8a-41b4-a0d0-7feb3301252a",
     "showTitle": false,
     "tableResultSettingsMap": {},
     "title": ""
    }
   },
   "outputs": [],
   "source": [
    "df_final = df_metrics \\\n",
    "    .filter(\n",
    "        col('symbol').isNotNull() &\n",
    "        col('last_updated_ts').isNotNull() &\n",
    "        col('date_partition').isNotNull() &\n",
    "        col('market_cap_billions').isNotNull() &\n",
    "        col('id').isNotNull()\n",
    "    ) \\\n",
    "    .dropDuplicates(['id', 'last_updated_ts'])\n"
   ]
  },
  {
   "cell_type": "code",
   "execution_count": 0,
   "metadata": {
    "application/vnd.databricks.v1+cell": {
     "cellMetadata": {
      "byteLimit": 2048000,
      "rowLimit": 10000
     },
     "inputWidgets": {},
     "nuid": "6014bfec-8132-4d22-ba63-3aa4174985a9",
     "showTitle": false,
     "tableResultSettingsMap": {},
     "title": ""
    }
   },
   "outputs": [],
   "source": [
    "df_final.printSchema()"
   ]
  },
  {
   "cell_type": "markdown",
   "metadata": {
    "application/vnd.databricks.v1+cell": {
     "cellMetadata": {
      "byteLimit": 2048000,
      "rowLimit": 10000
     },
     "inputWidgets": {},
     "nuid": "df77759f-06dd-49b4-8627-fe3092769754",
     "showTitle": false,
     "tableResultSettingsMap": {},
     "title": ""
    }
   },
   "source": [
    "## Writing to out silver layer"
   ]
  },
  {
   "cell_type": "code",
   "execution_count": 0,
   "metadata": {
    "application/vnd.databricks.v1+cell": {
     "cellMetadata": {
      "byteLimit": 2048000,
      "rowLimit": 10000
     },
     "inputWidgets": {},
     "nuid": "93d46a6d-51bc-4c94-baac-a355078e7cc8",
     "showTitle": false,
     "tableResultSettingsMap": {},
     "title": ""
    }
   },
   "outputs": [],
   "source": [
    "query = (\n",
    "    df_final\n",
    "    .writeStream\n",
    "    .format('delta') \\\n",
    "    .outputMode('append') \\\n",
    "    .option('checkpointLocation', 'abfss://cryptocontainer1@intellobankcryptodata.dfs.core.windows.net/silver/_checkpoints/crypto_market') \\\n",
    "    .trigger(once=True) \\\n",
    "    .start(silver_path))"
   ]
  },
  {
   "cell_type": "code",
   "execution_count": 0,
   "metadata": {
    "application/vnd.databricks.v1+cell": {
     "cellMetadata": {
      "byteLimit": 2048000,
      "rowLimit": 10000
     },
     "inputWidgets": {},
     "nuid": "2ff6151f-6b66-4ce8-89af-72fa152004e1",
     "showTitle": false,
     "tableResultSettingsMap": {},
     "title": ""
    }
   },
   "outputs": [],
   "source": [
    "query.stop"
   ]
  }
 ],
 "metadata": {
  "application/vnd.databricks.v1+notebook": {
   "computePreferences": null,
   "dashboards": [],
   "environmentMetadata": {
    "base_environment": "",
    "environment_version": "2"
   },
   "inputWidgetPreferences": null,
   "language": "python",
   "notebookMetadata": {
    "pythonIndentUnit": 4
   },
   "notebookName": "silver-layer",
   "widgets": {}
  },
  "language_info": {
   "name": "python"
  }
 },
 "nbformat": 4,
 "nbformat_minor": 0
}
